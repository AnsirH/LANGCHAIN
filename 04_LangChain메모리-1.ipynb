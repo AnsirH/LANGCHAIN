{
 "cells": [
  {
   "cell_type": "markdown",
   "id": "810147ec",
   "metadata": {},
   "source": [
    "# LangChainMemory\n",
    "- 이전 대화 내용을 기억해서 문맥을 유지하는 역할 LangChain 0.3X 부터는 LCEL 기반으로 체인을 구성.\n",
    "- RunnableWithMessageHistory, ChatMessageHistory 등의 컴포넌트를 활용하여 세션별 대화 기록을 관리"
   ]
  }
 ],
 "metadata": {
  "language_info": {
   "name": "python"
  }
 },
 "nbformat": 4,
 "nbformat_minor": 5
}
