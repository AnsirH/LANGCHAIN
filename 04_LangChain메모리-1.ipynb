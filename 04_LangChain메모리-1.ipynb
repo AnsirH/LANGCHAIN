{
 "cells": [
  {
   "cell_type": "markdown",
   "id": "810147ec",
   "metadata": {},
   "source": [
    "# LangChainMemory\n",
    "- 이전 대화 내용을 기억해서 문맥을 유지하는 역할 LangChain 0.3X 부터는 LCEL 기반으로 체인을 구성.\n",
    "- RunnableWithMessageHistory, ChatMessageHistory 등의 컴포넌트를 활용하여 세션별 대화 기록을 관리\n",
    "- 대화가 장기화될 경우 요약 메모리를 도입하여 과거 대화를 LLM으로 요약하고 축약된 형태로 저장해서 프롬프트의 길이 문제를 해결함."
   ]
  },
  {
   "cell_type": "code",
   "execution_count": 23,
   "id": "f4663473",
   "metadata": {},
   "outputs": [
    {
     "name": "stdout",
     "output_type": "stream",
     "text": [
      "Note: you may need to restart the kernel to use updated packages.\n"
     ]
    }
   ],
   "source": [
    "%pip install --quiet langchain langchain-openai langchain-community python-dotenv langchain_redis"
   ]
  },
  {
   "cell_type": "code",
   "execution_count": 24,
   "id": "48bb9231",
   "metadata": {},
   "outputs": [
    {
     "data": {
      "text/plain": [
       "True"
      ]
     },
     "execution_count": 24,
     "metadata": {},
     "output_type": "execute_result"
    }
   ],
   "source": [
    "from dotenv import load_dotenv\n",
    "load_dotenv()"
   ]
  },
  {
   "cell_type": "code",
   "execution_count": 25,
   "id": "de62d926",
   "metadata": {},
   "outputs": [],
   "source": [
    "from langchain_core.chat_history import InMemoryChatMessageHistory\n",
    "# 메모리 객체 생성\n",
    "history = InMemoryChatMessageHistory()\n",
    "history.add_user_message(\"안녕하세요. 제 이름은 홍길동입니다.\")\n",
    "history.add_ai_message(\"안녕하세요, 홍길동님! 만나서 반갑습니다.\")"
   ]
  },
  {
   "cell_type": "code",
   "execution_count": 26,
   "id": "d05435da",
   "metadata": {},
   "outputs": [
    {
     "name": "stdout",
     "output_type": "stream",
     "text": [
      "human: 안녕하세요. 제 이름은 홍길동입니다.\n",
      "ai: 안녕하세요, 홍길동님! 만나서 반갑습니다.\n"
     ]
    }
   ],
   "source": [
    "# 현재까지의 대화 내용 확인\n",
    "for msg in history.messages:\n",
    "    print(f\"{msg.type}: {msg.content}\")"
   ]
  },
  {
   "cell_type": "markdown",
   "id": "a2a3af0c",
   "metadata": {},
   "source": [
    "# Redis 기반 채팅 기록 저장소"
   ]
  },
  {
   "cell_type": "code",
   "execution_count": 27,
   "id": "2aa1edb9",
   "metadata": {},
   "outputs": [
    {
     "ename": "ConnectionError",
     "evalue": "Error 10061 connecting to localhost:6379. 대상 컴퓨터에서 연결을 거부했으므로 연결하지 못했습니다.",
     "output_type": "error",
     "traceback": [
      "\u001b[31m---------------------------------------------------------------------------\u001b[39m",
      "\u001b[31mConnectionRefusedError\u001b[39m                    Traceback (most recent call last)",
      "\u001b[36mFile \u001b[39m\u001b[32mc:\\Users\\USER\\miniconda3\\envs\\langchain\\Lib\\site-packages\\redis\\connection.py:378\u001b[39m, in \u001b[36mAbstractConnection.connect\u001b[39m\u001b[34m(self)\u001b[39m\n\u001b[32m    377\u001b[39m \u001b[38;5;28;01mtry\u001b[39;00m:\n\u001b[32m--> \u001b[39m\u001b[32m378\u001b[39m     sock = \u001b[38;5;28;43mself\u001b[39;49m\u001b[43m.\u001b[49m\u001b[43mretry\u001b[49m\u001b[43m.\u001b[49m\u001b[43mcall_with_retry\u001b[49m\u001b[43m(\u001b[49m\n\u001b[32m    379\u001b[39m \u001b[43m        \u001b[49m\u001b[38;5;28;43;01mlambda\u001b[39;49;00m\u001b[43m:\u001b[49m\u001b[43m \u001b[49m\u001b[38;5;28;43mself\u001b[39;49m\u001b[43m.\u001b[49m\u001b[43m_connect\u001b[49m\u001b[43m(\u001b[49m\u001b[43m)\u001b[49m\u001b[43m,\u001b[49m\u001b[43m \u001b[49m\u001b[38;5;28;43;01mlambda\u001b[39;49;00m\u001b[43m \u001b[49m\u001b[43merror\u001b[49m\u001b[43m:\u001b[49m\u001b[43m \u001b[49m\u001b[38;5;28;43mself\u001b[39;49m\u001b[43m.\u001b[49m\u001b[43mdisconnect\u001b[49m\u001b[43m(\u001b[49m\u001b[43merror\u001b[49m\u001b[43m)\u001b[49m\n\u001b[32m    380\u001b[39m \u001b[43m    \u001b[49m\u001b[43m)\u001b[49m\n\u001b[32m    381\u001b[39m \u001b[38;5;28;01mexcept\u001b[39;00m socket.timeout:\n",
      "\u001b[36mFile \u001b[39m\u001b[32mc:\\Users\\USER\\miniconda3\\envs\\langchain\\Lib\\site-packages\\redis\\retry.py:62\u001b[39m, in \u001b[36mRetry.call_with_retry\u001b[39m\u001b[34m(self, do, fail)\u001b[39m\n\u001b[32m     61\u001b[39m \u001b[38;5;28;01mtry\u001b[39;00m:\n\u001b[32m---> \u001b[39m\u001b[32m62\u001b[39m     \u001b[38;5;28;01mreturn\u001b[39;00m \u001b[43mdo\u001b[49m\u001b[43m(\u001b[49m\u001b[43m)\u001b[49m\n\u001b[32m     63\u001b[39m \u001b[38;5;28;01mexcept\u001b[39;00m \u001b[38;5;28mself\u001b[39m._supported_errors \u001b[38;5;28;01mas\u001b[39;00m error:\n",
      "\u001b[36mFile \u001b[39m\u001b[32mc:\\Users\\USER\\miniconda3\\envs\\langchain\\Lib\\site-packages\\redis\\connection.py:379\u001b[39m, in \u001b[36mAbstractConnection.connect.<locals>.<lambda>\u001b[39m\u001b[34m()\u001b[39m\n\u001b[32m    377\u001b[39m \u001b[38;5;28;01mtry\u001b[39;00m:\n\u001b[32m    378\u001b[39m     sock = \u001b[38;5;28mself\u001b[39m.retry.call_with_retry(\n\u001b[32m--> \u001b[39m\u001b[32m379\u001b[39m         \u001b[38;5;28;01mlambda\u001b[39;00m: \u001b[38;5;28;43mself\u001b[39;49m\u001b[43m.\u001b[49m\u001b[43m_connect\u001b[49m\u001b[43m(\u001b[49m\u001b[43m)\u001b[49m, \u001b[38;5;28;01mlambda\u001b[39;00m error: \u001b[38;5;28mself\u001b[39m.disconnect(error)\n\u001b[32m    380\u001b[39m     )\n\u001b[32m    381\u001b[39m \u001b[38;5;28;01mexcept\u001b[39;00m socket.timeout:\n",
      "\u001b[36mFile \u001b[39m\u001b[32mc:\\Users\\USER\\miniconda3\\envs\\langchain\\Lib\\site-packages\\redis\\connection.py:764\u001b[39m, in \u001b[36mConnection._connect\u001b[39m\u001b[34m(self)\u001b[39m\n\u001b[32m    763\u001b[39m \u001b[38;5;28;01mif\u001b[39;00m err \u001b[38;5;129;01mis\u001b[39;00m \u001b[38;5;129;01mnot\u001b[39;00m \u001b[38;5;28;01mNone\u001b[39;00m:\n\u001b[32m--> \u001b[39m\u001b[32m764\u001b[39m     \u001b[38;5;28;01mraise\u001b[39;00m err\n\u001b[32m    765\u001b[39m \u001b[38;5;28;01mraise\u001b[39;00m \u001b[38;5;167;01mOSError\u001b[39;00m(\u001b[33m\"\u001b[39m\u001b[33msocket.getaddrinfo returned an empty list\u001b[39m\u001b[33m\"\u001b[39m)\n",
      "\u001b[36mFile \u001b[39m\u001b[32mc:\\Users\\USER\\miniconda3\\envs\\langchain\\Lib\\site-packages\\redis\\connection.py:752\u001b[39m, in \u001b[36mConnection._connect\u001b[39m\u001b[34m(self)\u001b[39m\n\u001b[32m    751\u001b[39m \u001b[38;5;66;03m# connect\u001b[39;00m\n\u001b[32m--> \u001b[39m\u001b[32m752\u001b[39m \u001b[43msock\u001b[49m\u001b[43m.\u001b[49m\u001b[43mconnect\u001b[49m\u001b[43m(\u001b[49m\u001b[43msocket_address\u001b[49m\u001b[43m)\u001b[49m\n\u001b[32m    754\u001b[39m \u001b[38;5;66;03m# set the socket_timeout now that we're connected\u001b[39;00m\n",
      "\u001b[31mConnectionRefusedError\u001b[39m: [WinError 10061] 대상 컴퓨터에서 연결을 거부했으므로 연결하지 못했습니다",
      "\nDuring handling of the above exception, another exception occurred:\n",
      "\u001b[31mConnectionError\u001b[39m                           Traceback (most recent call last)",
      "\u001b[36mCell\u001b[39m\u001b[36m \u001b[39m\u001b[32mIn[27]\u001b[39m\u001b[32m, line 12\u001b[39m\n\u001b[32m      9\u001b[39m session_id = \u001b[33m\"\u001b[39m\u001b[33muser_123\u001b[39m\u001b[33m\"\u001b[39m\n\u001b[32m     11\u001b[39m \u001b[38;5;66;03m# RedisChatMessageHistory 객체 생성\u001b[39;00m\n\u001b[32m---> \u001b[39m\u001b[32m12\u001b[39m history = \u001b[43mRedisChatMessageHistory\u001b[49m\u001b[43m(\u001b[49m\u001b[43msession_id\u001b[49m\u001b[43m=\u001b[49m\u001b[43msession_id\u001b[49m\u001b[43m,\u001b[49m\u001b[43m \u001b[49m\u001b[43mredis_url\u001b[49m\u001b[43m=\u001b[49m\u001b[43mREDIS_URL\u001b[49m\u001b[43m)\u001b[49m\n\u001b[32m     13\u001b[39m \u001b[38;5;66;03m# Redis에 대화 내용 저장\u001b[39;00m\n\u001b[32m     14\u001b[39m history.add_user_message(\u001b[33m\"\u001b[39m\u001b[33m안녕하세요. 제 이름은 홍길동입니다.\u001b[39m\u001b[33m\"\u001b[39m)\n",
      "\u001b[36mFile \u001b[39m\u001b[32mc:\\Users\\USER\\miniconda3\\envs\\langchain\\Lib\\site-packages\\langchain_redis\\chat_message_history.py:120\u001b[39m, in \u001b[36mRedisChatMessageHistory.__init__\u001b[39m\u001b[34m(self, session_id, redis_url, key_prefix, ttl, index_name, redis_client, **kwargs)\u001b[39m\n\u001b[32m    118\u001b[39m     \u001b[38;5;28mself\u001b[39m.redis_client.pubsub_configs = {\u001b[33m\"\u001b[39m\u001b[33mpush_handler_func\u001b[39m\u001b[33m\"\u001b[39m: _noop_push_handler}\n\u001b[32m    119\u001b[39m \u001b[38;5;28;01mtry\u001b[39;00m:\n\u001b[32m--> \u001b[39m\u001b[32m120\u001b[39m     \u001b[38;5;28;43mself\u001b[39;49m\u001b[43m.\u001b[49m\u001b[43mredis_client\u001b[49m\u001b[43m.\u001b[49m\u001b[43mclient_setinfo\u001b[49m\u001b[43m(\u001b[49m\u001b[33;43m\"\u001b[39;49m\u001b[33;43mLIB-NAME\u001b[39;49m\u001b[33;43m\"\u001b[39;49m\u001b[43m,\u001b[49m\u001b[43m \u001b[49m\u001b[43m__full_lib_name__\u001b[49m\u001b[43m)\u001b[49m  \u001b[38;5;66;03m# type: ignore\u001b[39;00m\n\u001b[32m    121\u001b[39m \u001b[38;5;28;01mexcept\u001b[39;00m ResponseError:\n\u001b[32m    122\u001b[39m     \u001b[38;5;66;03m# Fall back to a simple log echo\u001b[39;00m\n\u001b[32m    123\u001b[39m     \u001b[38;5;28mself\u001b[39m.redis_client.echo(__full_lib_name__)\n",
      "\u001b[36mFile \u001b[39m\u001b[32mc:\\Users\\USER\\miniconda3\\envs\\langchain\\Lib\\site-packages\\redis\\commands\\core.py:709\u001b[39m, in \u001b[36mManagementCommands.client_setinfo\u001b[39m\u001b[34m(self, attr, value, **kwargs)\u001b[39m\n\u001b[32m    704\u001b[39m \u001b[38;5;28;01mdef\u001b[39;00m\u001b[38;5;250m \u001b[39m\u001b[34mclient_setinfo\u001b[39m(\u001b[38;5;28mself\u001b[39m, attr: \u001b[38;5;28mstr\u001b[39m, value: \u001b[38;5;28mstr\u001b[39m, **kwargs) -> ResponseT:\n\u001b[32m    705\u001b[39m \u001b[38;5;250m    \u001b[39m\u001b[33;03m\"\"\"\u001b[39;00m\n\u001b[32m    706\u001b[39m \u001b[33;03m    Sets the current connection library name or version\u001b[39;00m\n\u001b[32m    707\u001b[39m \u001b[33;03m    For mor information see https://redis.io/commands/client-setinfo\u001b[39;00m\n\u001b[32m    708\u001b[39m \u001b[33;03m    \"\"\"\u001b[39;00m\n\u001b[32m--> \u001b[39m\u001b[32m709\u001b[39m     \u001b[38;5;28;01mreturn\u001b[39;00m \u001b[38;5;28;43mself\u001b[39;49m\u001b[43m.\u001b[49m\u001b[43mexecute_command\u001b[49m\u001b[43m(\u001b[49m\u001b[33;43m\"\u001b[39;49m\u001b[33;43mCLIENT SETINFO\u001b[39;49m\u001b[33;43m\"\u001b[39;49m\u001b[43m,\u001b[49m\u001b[43m \u001b[49m\u001b[43mattr\u001b[49m\u001b[43m,\u001b[49m\u001b[43m \u001b[49m\u001b[43mvalue\u001b[49m\u001b[43m,\u001b[49m\u001b[43m \u001b[49m\u001b[43m*\u001b[49m\u001b[43m*\u001b[49m\u001b[43mkwargs\u001b[49m\u001b[43m)\u001b[49m\n",
      "\u001b[36mFile \u001b[39m\u001b[32mc:\\Users\\USER\\miniconda3\\envs\\langchain\\Lib\\site-packages\\redis\\client.py:605\u001b[39m, in \u001b[36mRedis.execute_command\u001b[39m\u001b[34m(self, *args, **options)\u001b[39m\n\u001b[32m    604\u001b[39m \u001b[38;5;28;01mdef\u001b[39;00m\u001b[38;5;250m \u001b[39m\u001b[34mexecute_command\u001b[39m(\u001b[38;5;28mself\u001b[39m, *args, **options):\n\u001b[32m--> \u001b[39m\u001b[32m605\u001b[39m     \u001b[38;5;28;01mreturn\u001b[39;00m \u001b[38;5;28;43mself\u001b[39;49m\u001b[43m.\u001b[49m\u001b[43m_execute_command\u001b[49m\u001b[43m(\u001b[49m\u001b[43m*\u001b[49m\u001b[43margs\u001b[49m\u001b[43m,\u001b[49m\u001b[43m \u001b[49m\u001b[43m*\u001b[49m\u001b[43m*\u001b[49m\u001b[43moptions\u001b[49m\u001b[43m)\u001b[49m\n",
      "\u001b[36mFile \u001b[39m\u001b[32mc:\\Users\\USER\\miniconda3\\envs\\langchain\\Lib\\site-packages\\redis\\client.py:611\u001b[39m, in \u001b[36mRedis._execute_command\u001b[39m\u001b[34m(self, *args, **options)\u001b[39m\n\u001b[32m    609\u001b[39m pool = \u001b[38;5;28mself\u001b[39m.connection_pool\n\u001b[32m    610\u001b[39m command_name = args[\u001b[32m0\u001b[39m]\n\u001b[32m--> \u001b[39m\u001b[32m611\u001b[39m conn = \u001b[38;5;28mself\u001b[39m.connection \u001b[38;5;129;01mor\u001b[39;00m \u001b[43mpool\u001b[49m\u001b[43m.\u001b[49m\u001b[43mget_connection\u001b[49m\u001b[43m(\u001b[49m\u001b[43m)\u001b[49m\n\u001b[32m    613\u001b[39m \u001b[38;5;28;01mif\u001b[39;00m \u001b[38;5;28mself\u001b[39m._single_connection_client:\n\u001b[32m    614\u001b[39m     \u001b[38;5;28mself\u001b[39m.single_connection_lock.acquire()\n",
      "\u001b[36mFile \u001b[39m\u001b[32mc:\\Users\\USER\\miniconda3\\envs\\langchain\\Lib\\site-packages\\redis\\utils.py:183\u001b[39m, in \u001b[36mdeprecated_args.<locals>.decorator.<locals>.wrapper\u001b[39m\u001b[34m(*args, **kwargs)\u001b[39m\n\u001b[32m    178\u001b[39m     \u001b[38;5;28;01melif\u001b[39;00m arg \u001b[38;5;129;01min\u001b[39;00m provided_args:\n\u001b[32m    179\u001b[39m         warn_deprecated_arg_usage(\n\u001b[32m    180\u001b[39m             arg, func.\u001b[34m__name__\u001b[39m, reason, version, stacklevel=\u001b[32m3\u001b[39m\n\u001b[32m    181\u001b[39m         )\n\u001b[32m--> \u001b[39m\u001b[32m183\u001b[39m \u001b[38;5;28;01mreturn\u001b[39;00m \u001b[43mfunc\u001b[49m\u001b[43m(\u001b[49m\u001b[43m*\u001b[49m\u001b[43margs\u001b[49m\u001b[43m,\u001b[49m\u001b[43m \u001b[49m\u001b[43m*\u001b[49m\u001b[43m*\u001b[49m\u001b[43mkwargs\u001b[49m\u001b[43m)\u001b[49m\n",
      "\u001b[36mFile \u001b[39m\u001b[32mc:\\Users\\USER\\miniconda3\\envs\\langchain\\Lib\\site-packages\\redis\\connection.py:1483\u001b[39m, in \u001b[36mConnectionPool.get_connection\u001b[39m\u001b[34m(self, command_name, *keys, **options)\u001b[39m\n\u001b[32m   1479\u001b[39m     \u001b[38;5;28mself\u001b[39m._in_use_connections.add(connection)\n\u001b[32m   1481\u001b[39m \u001b[38;5;28;01mtry\u001b[39;00m:\n\u001b[32m   1482\u001b[39m     \u001b[38;5;66;03m# ensure this connection is connected to Redis\u001b[39;00m\n\u001b[32m-> \u001b[39m\u001b[32m1483\u001b[39m     \u001b[43mconnection\u001b[49m\u001b[43m.\u001b[49m\u001b[43mconnect\u001b[49m\u001b[43m(\u001b[49m\u001b[43m)\u001b[49m\n\u001b[32m   1484\u001b[39m     \u001b[38;5;66;03m# connections that the pool provides should be ready to send\u001b[39;00m\n\u001b[32m   1485\u001b[39m     \u001b[38;5;66;03m# a command. if not, the connection was either returned to the\u001b[39;00m\n\u001b[32m   1486\u001b[39m     \u001b[38;5;66;03m# pool before all data has been read or the socket has been\u001b[39;00m\n\u001b[32m   1487\u001b[39m     \u001b[38;5;66;03m# closed. either way, reconnect and verify everything is good.\u001b[39;00m\n\u001b[32m   1488\u001b[39m     \u001b[38;5;28;01mtry\u001b[39;00m:\n",
      "\u001b[36mFile \u001b[39m\u001b[32mc:\\Users\\USER\\miniconda3\\envs\\langchain\\Lib\\site-packages\\redis\\connection.py:384\u001b[39m, in \u001b[36mAbstractConnection.connect\u001b[39m\u001b[34m(self)\u001b[39m\n\u001b[32m    382\u001b[39m     \u001b[38;5;28;01mraise\u001b[39;00m \u001b[38;5;167;01mTimeoutError\u001b[39;00m(\u001b[33m\"\u001b[39m\u001b[33mTimeout connecting to server\u001b[39m\u001b[33m\"\u001b[39m)\n\u001b[32m    383\u001b[39m \u001b[38;5;28;01mexcept\u001b[39;00m \u001b[38;5;167;01mOSError\u001b[39;00m \u001b[38;5;28;01mas\u001b[39;00m e:\n\u001b[32m--> \u001b[39m\u001b[32m384\u001b[39m     \u001b[38;5;28;01mraise\u001b[39;00m \u001b[38;5;167;01mConnectionError\u001b[39;00m(\u001b[38;5;28mself\u001b[39m._error_message(e))\n\u001b[32m    386\u001b[39m \u001b[38;5;28mself\u001b[39m._sock = sock\n\u001b[32m    387\u001b[39m \u001b[38;5;28;01mtry\u001b[39;00m:\n",
      "\u001b[31mConnectionError\u001b[39m: Error 10061 connecting to localhost:6379. 대상 컴퓨터에서 연결을 거부했으므로 연결하지 못했습니다."
     ]
    }
   ],
   "source": [
    "from langchain_redis import RedisChatMessageHistory\n",
    "import os\n",
    "\n",
    "# Redis RUL 설정\n",
    "# 포트 번호는 6379가 기본값입니다.\n",
    "# 포트 번호가 다르다면 환경 변수 REDIS_URL에 redis://localhost:포트번호 형식으로 설정하세요.\n",
    "# 환경 변수 REDIS_URL이 설정되어 있지 않으면 기본값으로 redis://localhost:6379 사용\n",
    "REDIS_URL = os.getenv(\"REDIS_URL\", \"redis://localhost:6379\")\n",
    "session_id = \"user_123\"\n",
    "\n",
    "# RedisChatMessageHistory 객체 생성\n",
    "history = RedisChatMessageHistory(session_id=session_id, redis_url=REDIS_URL)\n",
    "# Redis에 대화 내용 저장\n",
    "history.add_user_message(\"안녕하세요. 제 이름은 홍길동입니다.\")\n",
    "history.add_ai_message(\"안녕하세요, 홍길동님! 만나서 반갑습니다.\")"
   ]
  },
  {
   "cell_type": "markdown",
   "id": "b44c7ad6",
   "metadata": {},
   "source": [
    "# 세션 기반 다중 사용자 메모리 구조 구현 - 다중 사용자 챗봇\n",
    "- 핵심: session_id를 키로 하는 메모리 저장소를 만들고, 사용자의 대화를 키 별로 저장한다."
   ]
  },
  {
   "cell_type": "code",
   "execution_count": 39,
   "id": "3fc69be6",
   "metadata": {},
   "outputs": [],
   "source": [
    "from langchain_core.prompts import ChatPromptTemplate, MessagesPlaceholder\n",
    "from langchain_openai import ChatOpenAI\n",
    "# 프롬프트\n",
    "prompt = ChatPromptTemplate.from_messages([\n",
    "    (\"system\", \"당신은 뛰어난 한국어 상담 챗봇입니다. 질문에 친절하고 자세히 답변해주세요.\"),\n",
    "    # history 키로 전달된 메시지 목록은 체인 실행 시 해당 위치에 넣겠다는 의미.\n",
    "    MessagesPlaceholder(variable_name=\"history\"), \n",
    "    (\"human\", \"{input}\")\n",
    "])\n",
    "\n",
    "llm = ChatOpenAI(model=\"gpt-4o-mini\", temperature=0.0)"
   ]
  },
  {
   "cell_type": "code",
   "execution_count": 40,
   "id": "190d6e00",
   "metadata": {},
   "outputs": [],
   "source": [
    "# LCEL\n",
    "from langchain_core.output_parsers import StrOutputParser\n",
    "chain = prompt | llm | StrOutputParser()"
   ]
  },
  {
   "cell_type": "code",
   "execution_count": 41,
   "id": "b30a2002",
   "metadata": {},
   "outputs": [],
   "source": [
    "# 세션별 메모리 저장소를 딕셔너리로 만들고, 존재하지 않는 새로운 세션 id가 들어오면 InMemoryChatMessageHistory를 생성\n",
    "# get_session_history를 구현\n",
    "from langchain_core.chat_history import InMemoryChatMessageHistory\n",
    "from langchain_core.runnables.history import RunnableWithMessageHistory\n",
    "# 세션 id -> 대화 기록 객체 매핑\n",
    "store = {}\n",
    "def get_session_history(session_id: str) -> InMemoryChatMessageHistory:\n",
    "    \"\"\"\n",
    "    세션 ID에 해당하는 대화 기록 객체를 반환합니다. ( 없으면 새로 생성 )\n",
    "    \"\"\"    \n",
    "    if session_id not in store:\n",
    "        store[session_id] = InMemoryChatMessageHistory()\n",
    "    return store[session_id]\n",
    "# 메모리를 통합한 체인 Wrapper 생성\n",
    "chatbot = RunnableWithMessageHistory(\n",
    "    runnable=chain,\n",
    "    get_session_history=get_session_history,\n",
    "    input_messages_key=\"input\",\n",
    "    history_messages_key=\"history\"\n",
    ")"
   ]
  },
  {
   "cell_type": "code",
   "execution_count": 42,
   "id": "b877b442",
   "metadata": {},
   "outputs": [
    {
     "name": "stdout",
     "output_type": "stream",
     "text": [
      "17:50:15 httpx INFO   HTTP Request: POST https://api.openai.com/v1/chat/completions \"HTTP/1.1 200 OK\"\n",
      "Session user_a 질문: 안녕하세요, 저는 홍길동입니다. 당신은 누구신가요?\n",
      "Session user_a 답변: 안녕하세요, 홍길동님! 저는 여러분의 질문에 답변하고 도움을 드리기 위해 만들어진 챗봇입니다. 어떤 궁금한 점이나 도움이 필요하신 부분이 있으신가요?\n",
      "\n",
      "17:50:16 httpx INFO   HTTP Request: POST https://api.openai.com/v1/chat/completions \"HTTP/1.1 200 OK\"\n",
      "Session user_b 질문: 안녕하세요, 저는 이순신입니다. 당신은 어떤 일을 하시나요?\n",
      "Session user_b 답변: 안녕하세요, 이순신님! 저는 여러분의 질문에 답변하고, 다양한 정보와 도움을 제공하는 챗봇입니다. 궁금한 점이나 도움이 필요한 부분이 있다면 언제든지 말씀해 주세요. 역사, 과학, 문화, 일상생활 등 다양한 주제에 대해 이야기할 수 있습니다. 무엇을 도와드릴까요?\n",
      "\n",
      "17:50:18 httpx INFO   HTTP Request: POST https://api.openai.com/v1/chat/completions \"HTTP/1.1 200 OK\"\n",
      "Session user_a 질문: 저는 프로그래밍을 배우고 있습니다. 당신은 어떤 일을 하시나요?\n",
      "Session user_a 답변: 프로그래밍을 배우고 계시다니 멋지네요! 저는 여러분의 질문에 답변하고, 정보 제공, 문제 해결, 그리고 다양한 주제에 대한 상담을 하는 역할을 하고 있습니다. 프로그래밍에 관련된 질문이나 도움이 필요하시면 언제든지 말씀해 주세요! 어떤 언어를 배우고 계신가요?\n",
      "\n",
      "17:50:20 httpx INFO   HTTP Request: POST https://api.openai.com/v1/chat/completions \"HTTP/1.1 200 OK\"\n",
      "Session user_b 질문: 저는 역사에 관심이 많습니다. 당신은 어떤 분야에 관심이 있나요?\n",
      "Session user_b 답변: 역사에 관심이 많으시군요! 역사적인 사건이나 인물에 대해 이야기하는 것은 정말 흥미로운 일입니다. 저는 특정한 관심 분야가 없지만, 다양한 주제에 대한 정보를 제공할 수 있습니다. 역사, 과학, 기술, 예술, 문화 등 여러 분야에 대해 여러분과 대화할 수 있습니다. 혹시 특정한 역사적 사건이나 인물에 대해 궁금한 점이 있으신가요?\n",
      "\n"
     ]
    }
   ],
   "source": [
    "# 두 개의 세션을 번갈아가면서 대화\n",
    "# RunnableWithMessageHistory를 사용하여 세션별로 대화 기록을 관리합니다.\n",
    "# 세션 ID를 사용하여 대화 기록을 구분하고, 각 세션에 대한 질문과 답변을 생성합니다.\n",
    "sessions = [\"user_a\", \"user_b\"]\n",
    "questions = [\n",
    "    \"안녕하세요, 저는 홍길동입니다. 당신은 누구신가요?\",             # user_a의 첫 번째 질문\n",
    "    \"안녕하세요, 저는 이순신입니다. 당신은 어떤 일을 하시나요?\",     # user_b의 첫 번째 질문\n",
    "    \"저는 프로그래밍을 배우고 있습니다. 당신은 어떤 일을 하시나요?\",  # user_a의 두 번째 질문\n",
    "    \"저는 역사에 관심이 많습니다. 당신은 어떤 분야에 관심이 있나요?\"  # user_b의 두 번째 질문\n",
    "]\n",
    "for idx, question in enumerate(questions):\n",
    "    session_id = sessions[idx % len(sessions)]\n",
    "    # 질문에 대한 답변 생성\n",
    "    response = chatbot.invoke({\"input\": question}, config={\"configurable\": {\"session_id\": session_id}})\n",
    "    print(f\"Session {session_id} 질문: {question}\")\n",
    "    print(f\"Session {session_id} 답변: {response}\\n\")"
   ]
  },
  {
   "cell_type": "code",
   "execution_count": 43,
   "id": "46c19e25",
   "metadata": {},
   "outputs": [
    {
     "name": "stdout",
     "output_type": "stream",
     "text": [
      "17:50:21 httpx INFO   HTTP Request: POST https://api.openai.com/v1/chat/completions \"HTTP/1.1 200 OK\"\n",
      "Session user_c 질문: 저는 철수에요. 반갑습니다.\n",
      "Session user_c 답변: 안녕하세요, 철수님! 반갑습니다. 어떻게 도와드릴까요? 궁금한 점이나 이야기하고 싶은 것이 있다면 말씀해 주세요.\n",
      "\n"
     ]
    }
   ],
   "source": [
    "result = chatbot.invoke({\"input\": \"저는 철수에요. 반갑습니다.\"}, config={\"configurable\": {\"session_id\": \"user_c\"}})\n",
    "print(f\"Session user_c 질문: 저는 철수에요. 반갑습니다.\")\n",
    "print(f\"Session user_c 답변: {result}\\n\")"
   ]
  },
  {
   "cell_type": "code",
   "execution_count": 44,
   "id": "07cbef3f",
   "metadata": {},
   "outputs": [
    {
     "name": "stdout",
     "output_type": "stream",
     "text": [
      "17:50:22 httpx INFO   HTTP Request: POST https://api.openai.com/v1/chat/completions \"HTTP/1.1 200 OK\"\n",
      "Session user_a 질문: 저는 누구라고요?\n",
      "Session user_a 답변: 홍길동님이라고 말씀하셨습니다! 혹시 더 궁금한 점이나 다른 질문이 있으신가요? 도움이 필요하시면 언제든지 말씀해 주세요.\n",
      "\n"
     ]
    }
   ],
   "source": [
    "result = chatbot.invoke({\"input\": \"저는 누구라고요?\"}, config={\"configurable\": {\"session_id\": \"user_a\"}})\n",
    "print(f\"Session user_a 질문: 저는 누구라고요?\")\n",
    "print(f\"Session user_a 답변: {result}\\n\")"
   ]
  },
  {
   "cell_type": "code",
   "execution_count": 45,
   "id": "97acfdc3",
   "metadata": {},
   "outputs": [
    {
     "name": "stdout",
     "output_type": "stream",
     "text": [
      "17:50:24 httpx INFO   HTTP Request: POST https://api.openai.com/v1/chat/completions \"HTTP/1.1 200 OK\"\n",
      "Session user_b 질문: 저는 누구라고요?\n",
      "Session user_b 답변: 이순신님이라고 말씀하셨습니다! 이순신은 조선시대의 유명한 장군으로, 임진왜란 때의 전쟁 영웅으로 잘 알려져 있습니다. 그의 전략과 용기는 많은 사람들에게 영감을 주고 있습니다. 혹시 이순신 장군에 대해 더 이야기하고 싶으신가요, 아니면 다른 역사적 인물이나 사건에 대해 궁금한 점이 있으신가요?\n",
      "\n"
     ]
    }
   ],
   "source": [
    "result = chatbot.invoke({\"input\": \"저는 누구라고요?\"}, config={\"configurable\": {\"session_id\": \"user_b\"}})\n",
    "print(f\"Session user_b 질문: 저는 누구라고요?\")\n",
    "print(f\"Session user_b 답변: {result}\\n\")"
   ]
  },
  {
   "cell_type": "code",
   "execution_count": 46,
   "id": "36e3b854",
   "metadata": {},
   "outputs": [
    {
     "name": "stdout",
     "output_type": "stream",
     "text": [
      "17:50:25 httpx INFO   HTTP Request: POST https://api.openai.com/v1/chat/completions \"HTTP/1.1 200 OK\"\n",
      "Session user_c 질문: 저는 누구라고요?\n",
      "Session user_c 답변: 철수님이라고 하셨습니다! 혹시 더 궁금한 점이나 다른 이야기를 나누고 싶으신가요? 언제든지 말씀해 주세요!\n",
      "\n"
     ]
    }
   ],
   "source": [
    "result = chatbot.invoke({\"input\": \"저는 누구라고요?\"}, config={\"configurable\": {\"session_id\": \"user_c\"}})\n",
    "print(f\"Session user_c 질문: 저는 누구라고요?\")\n",
    "print(f\"Session user_c 답변: {result}\\n\")"
   ]
  },
  {
   "cell_type": "markdown",
   "id": "e16c5fd2",
   "metadata": {},
   "source": [
    "# 요약 메모리 구현( 대화 내용 자동 요약 )\n",
    "```\n",
    "긴 대화 내용을 모두 프롬프트에 기록하는 것은 비 효율적 -> 프롬프트의 길이 제한에 걸릴 가능성이 있음.\n",
    "\n",
    "Conversation Summary Memory\n",
    "0.3x 버전에서는 직접 요약용 체인을 만들어서 ChatMessageHistory에 적용\n",
    "```\n",
    "\n",
    "## 요약 방법\n",
    "```\n",
    "- 일정 길이 이상 대화가 누적되면, 과거 대화를 요약해서 핵심 내용만 남김\n",
    "- 요약 결과를 메모리에 시스템 메시지 등으로 저장 -> 메모리 절약\n",
    "- 새로운 사용자 입력 시 요약된 맥락 + 최근 몇 메시지만 참고하여 LLM에 전달\n",
    "```"
   ]
  },
  {
   "cell_type": "code",
   "execution_count": 47,
   "id": "06550daf",
   "metadata": {},
   "outputs": [],
   "source": [
    "# 요약용 프롬프트 템플릿\n",
    "summary_prompt = ChatPromptTemplate.from_messages([\n",
    "    (\"system\", \"당신은 대화 요약 전문가입니다. 대화의 주요 내용을 간결하게 요약해주세요.\"),\n",
    "    (\"human\", \"{conversation}\"), # 전체 대화 내용을 하나의 문자열로 전달\n",
    "])\n",
    "# LCEL\n",
    "summary_chain = summary_prompt | llm | StrOutputParser()"
   ]
  },
  {
   "cell_type": "code",
   "execution_count": 48,
   "id": "eba542c6",
   "metadata": {},
   "outputs": [
    {
     "name": "stdout",
     "output_type": "stream",
     "text": [
      "17:50:27 httpx INFO   HTTP Request: POST https://api.openai.com/v1/chat/completions \"HTTP/1.1 200 OK\"\n",
      "Session user_d 질문: 안녕, 오늘 우리 뭐하려고 했지?\n",
      "Session user_d 답변: 안녕하세요! 오늘 어떤 이야기를 나누고 싶으신가요? 궁금한 점이나 하고 싶은 주제가 있다면 말씀해 주세요. 함께 이야기해보아요!\n",
      "\n",
      "17:50:28 httpx INFO   HTTP Request: POST https://api.openai.com/v1/chat/completions \"HTTP/1.1 200 OK\"\n",
      "Session user_d 질문: 아, 맞다. 내일 회의 자료를 준비해야지. 내일 회의는 몇 시지?\n",
      "Session user_d 답변: 회의 시간이 기억나지 않으신가요? 보통 회의 일정은 이메일이나 캘린더에 기록되어 있을 텐데요. 확인해보시면 좋을 것 같아요. 만약 회의 준비에 도움이 필요하시다면 어떤 자료를 준비해야 하는지 말씀해 주시면 도와드릴 수 있습니다!\n",
      "\n",
      "17:50:31 httpx INFO   HTTP Request: POST https://api.openai.com/v1/chat/completions \"HTTP/1.1 200 OK\"\n",
      "Session user_d 질문: 그 회의에 누가 참석하는지 기억 나?\n",
      "Session user_d 답변: 회의 참석자에 대한 정보는 보통 회의 초대장이나 이메일에 포함되어 있을 텐데요. 그 내용을 확인해보시면 좋을 것 같습니다. 만약 참석자 목록을 정리해야 하거나, 특정 인물에 대해 궁금한 점이 있다면 말씀해 주세요. 도움이 될 수 있도록 최선을 다하겠습니다!\n",
      "\n",
      "17:50:34 httpx INFO   HTTP Request: POST https://api.openai.com/v1/chat/completions \"HTTP/1.1 200 OK\"\n",
      "Session user_d 질문: 단위 프로젝트 진행 상황도 공유해야 할까?\n",
      "Session user_d 답변: 네, 단위 프로젝트 진행 상황을 공유하는 것은 좋은 아이디어입니다. 회의에서 프로젝트의 현재 상태, 진행 중인 작업, 완료된 작업, 그리고 앞으로의 계획 등을 공유하면 참석자들이 프로젝트에 대한 이해를 높이고, 필요한 피드백이나 지원을 받을 수 있습니다. \n",
      "\n",
      "또한, 진행 상황을 시각적으로 정리한 자료(예: 그래프, 차트 등)를 준비하면 더 효과적으로 전달할 수 있습니다. 어떤 내용을 포함할지 고민 중이시라면, 구체적인 사항을 말씀해 주시면 더 도움을 드릴 수 있습니다!\n",
      "\n",
      "17:50:36 httpx INFO   HTTP Request: POST https://api.openai.com/v1/chat/completions \"HTTP/1.1 200 OK\"\n",
      "Session user_d 질문: 최근에 이야기 했던 새로운 기능에 대한 업데이트는 있어?\n",
      "Session user_d 답변: 새로운 기능에 대한 업데이트는 프로젝트의 진행 상황에 따라 다를 수 있습니다. 만약 특정 기능에 대한 개발이나 테스트가 진행 중이라면, 그에 대한 최신 정보를 공유하는 것이 좋습니다. \n",
      "\n",
      "업데이트 내용에는 다음과 같은 사항을 포함할 수 있습니다:\n",
      "\n",
      "1. **기능 설명**: 새로운 기능이 무엇인지 간단히 설명합니다.\n",
      "2. **진행 상황**: 현재 개발 단계나 테스트 상태를 공유합니다.\n",
      "3. **예상 일정**: 기능이 언제 배포될 예정인지에 대한 정보를 제공합니다.\n",
      "4. **피드백 요청**: 참석자들에게 의견이나 피드백을 요청할 수 있습니다.\n",
      "\n",
      "구체적인 기능이나 프로젝트에 대한 정보가 필요하시다면, 더 자세히 말씀해 주시면 좋겠습니다!\n",
      "\n"
     ]
    }
   ],
   "source": [
    "# user_d 세션에 대화 내용을 기록.\n",
    "\n",
    "# 긴 대화 내용을 생성\n",
    "long_queries = [\n",
    "    \"안녕, 오늘 우리 뭐하려고 했지?\",\n",
    "    \"아, 맞다. 내일 회의 자료를 준비해야지. 내일 회의는 몇 시지?\",\n",
    "    \"그 회의에 누가 참석하는지 기억 나?\",\n",
    "    \"단위 프로젝트 진행 상황도 공유해야 할까?\",\n",
    "    \"최근에 이야기 했던 새로운 기능에 대한 업데이트는 있어?\"\n",
    "]\n",
    "\n",
    "session_id = \"user_d\"\n",
    "for q in long_queries:\n",
    "    response = chatbot.invoke({\"input\": q}, config={\"configurable\": {\"session_id\": session_id}})\n",
    "    print(f\"Session {session_id} 질문: {q}\")\n",
    "    print(f\"Session {session_id} 답변: {response}\\n\")"
   ]
  },
  {
   "cell_type": "code",
   "execution_count": 49,
   "id": "f1c099d3",
   "metadata": {},
   "outputs": [
    {
     "name": "stdout",
     "output_type": "stream",
     "text": [
      "17:50:40 httpx INFO   HTTP Request: POST https://api.openai.com/v1/chat/completions \"HTTP/1.1 200 OK\"\n",
      "== 전체 대화 요약 ==\n",
      "Session user_d 전체 대화 요약: 대화 요약: \n",
      "HUMAN은 내일 회의 자료를 준비해야 한다고 언급하며 회의 시간과 참석자를 기억하지 못한다고 말합니다. AI는 회의 일정과 참석자 정보를 이메일이나 캘린더에서 확인할 것을 제안하고, 단위 프로젝트 진행 상황을 공유하는 것이 좋다고 조언합니다. AI는 진행 상황을 시각적으로 정리하는 것도 효과적이라고 덧붙입니다.\n",
      "\n"
     ]
    }
   ],
   "source": [
    "# 전체 대화 내용을 요약하고 마지막 사용자 질문-답변 쌍만 원본 유지\n",
    "from langchain_core.messages import SystemMessage, HumanMessage, AIMessage\n",
    "# 요약 대상 대화 내용 추출( 마지막 QA 쌍 제외한 이전 내용 )\n",
    "message = store[session_id].messages\n",
    "\n",
    "if len(message) > 2:\n",
    "    original_dialogue = \"\\n\".join([f\"{msg.type.upper()}: {msg.content}\" for msg in message[:-2]])\n",
    "else:\n",
    "    original_dialogue = \"\\n\".join([f\"{msg.type.upper()}: {msg.content}\" for msg in message])\n",
    "\n",
    "# llm으로 요약 생성\n",
    "summary_text = summary_chain.invoke({\"conversation\": original_dialogue})\n",
    "print(\"== 전체 대화 요약 ==\")\n",
    "print(f\"Session {session_id} 전체 대화 요약: {summary_text}\\n\")\n",
    "\n",
    "# 기존 메모리를 요약으로 교쳬: 이전 내용 요약본 + 최근 QA 유지\n",
    "new_history = InMemoryChatMessageHistory()\n",
    "new_history.messages.append(SystemMessage(content=f\"요약: {summary_text}\"))\n",
    "\n",
    "# 최근 대화의 마지막 QA 쌍 유지\n",
    "if len(message) > 2:\n",
    "    last_user_message = message[-2]\n",
    "    last_ai_message = message[-1]\n",
    "    if isinstance(last_user_message, HumanMessage):\n",
    "        new_history.messages.append(last_user_message.content)\n",
    "    else:\n",
    "        new_history.messages.append(last_user_message)\n",
    "    if isinstance(last_ai_message, AIMessage):\n",
    "        new_history.messages.append(last_ai_message.content)\n",
    "    else:\n",
    "        new_history.messages.append(last_ai_message)\n",
    "\n",
    "# 새로운 메모리로 교체\n",
    "store[session_id] = new_history"
   ]
  },
  {
   "cell_type": "code",
   "execution_count": null,
   "id": "03553edc",
   "metadata": {},
   "outputs": [],
   "source": []
  }
 ],
 "metadata": {
  "kernelspec": {
   "display_name": "langchain",
   "language": "python",
   "name": "python3"
  },
  "language_info": {
   "codemirror_mode": {
    "name": "ipython",
    "version": 3
   },
   "file_extension": ".py",
   "mimetype": "text/x-python",
   "name": "python",
   "nbconvert_exporter": "python",
   "pygments_lexer": "ipython3",
   "version": "3.13.3"
  }
 },
 "nbformat": 4,
 "nbformat_minor": 5
}
