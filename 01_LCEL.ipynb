{
 "cells": [
  {
   "cell_type": "code",
   "execution_count": 3,
   "id": "180eefda",
   "metadata": {},
   "outputs": [
    {
     "name": "stdout",
     "output_type": "stream",
     "text": [
      "Note: you may need to restart the kernel to use updated packages.\n"
     ]
    }
   ],
   "source": [
    "%pip install langchain langchain-openai python-dotenv -qqq"
   ]
  },
  {
   "cell_type": "code",
   "execution_count": 1,
   "id": "661c868f",
   "metadata": {},
   "outputs": [
    {
     "data": {
      "text/plain": [
       "'sk-p'"
      ]
     },
     "execution_count": 1,
     "metadata": {},
     "output_type": "execute_result"
    }
   ],
   "source": [
    "from dotenv import load_dotenv\n",
    "load_dotenv() # .env 파일 내용을 환경변수로 로드\n",
    "import os\n",
    "os.getenv(\"OPENAI_API_KEY\")[:4]"
   ]
  },
  {
   "cell_type": "markdown",
   "id": "51595e2f",
   "metadata": {},
   "source": [
    "# LangChain의 핵심 컴포넌트: 모델 호출 단계를 구성하는 추상화 요소를 제공\n",
    "    - PromptTemplate: LLM에 보낼 입력 프롬프트\n",
    "    - ChatOpenAI: OPENAI의 GPT- 모델 호출\n",
    "    - Runnable: 실행 가능한 객체에 대한 공통 인터페이스 -> invoke() 메서드를 통해서 입력과 출력을 지원\n",
    "    - StrOutputParser: 문자열 출력 파서\n",
    "        파이프로 연결이 가능\n",
    "        ex) prompt | llm | strparser"
   ]
  },
  {
   "cell_type": "code",
   "execution_count": 5,
   "id": "03e11eef",
   "metadata": {},
   "outputs": [
    {
     "name": "stdout",
     "output_type": "stream",
     "text": [
      "커피 제품을 생산하는 회사 이름은 뭘로 하면 좋을까?\n"
     ]
    }
   ],
   "source": [
    "from langchain_core.prompts import PromptTemplate\n",
    "\n",
    "template = \"{product} 제품을 생산하는 회사 이름은 뭘로 하면 좋을까?\"\n",
    "prompt = PromptTemplate.from_template(template)\n",
    "formated_prompt = prompt.format(product=\"커피\")\n",
    "print(formated_prompt)"
   ]
  },
  {
   "cell_type": "code",
   "execution_count": 6,
   "id": "bef23eab",
   "metadata": {},
   "outputs": [
    {
     "name": "stdout",
     "output_type": "stream",
     "text": [
      "안녕하세요! 어떻게 도와드릴까요?\n",
      "커피 제품을 생산하는 회사 이름을 정할 때는 브랜드의 이미지, 타겟 고객, 그리고 제품의 특징을 고려하는 것이 중요합니다. 다음은 몇 가지 아이디어입니다:\n",
      "\n",
      "1. **커피의 정원** - 자연 친화적인 이미지를 강조\n",
      "2. **아침의 한 잔** - 아침에 즐기는 커피를 강조\n",
      "3. **커피의 예술** - 고급스러운 느낌을 주는 이름\n",
      "4. **향기로운 순간** - 커피의 향을 강조\n",
      "5. **커피 공방** - 수제 느낌을 주는 이름\n",
      "6. **커피의 여정** - 다양한 원두와 블렌드를 탐험하는 느낌\n",
      "7. **한 잔의 행복** - 커피가 주는 기쁨을 강조\n",
      "8. **커피 마을** - 친근하고 따뜻한 이미지\n",
      "9. **블렌드 & 브루** - 다양한 블렌드와 추출 방법을 강조\n",
      "10. **커피의 시간** - 커피를 즐기는 특별한 순간을 강조\n",
      "\n",
      "이 중에서 마음에 드는 이름을 선택하거나, 조합하여 새로운 이름을 만들어 보세요!\n"
     ]
    }
   ],
   "source": [
    "from langchain_openai import ChatOpenAI\n",
    "# OpenAI API 키를 환경변수로 설정해야 합니다.\n",
    "# 키 환경 변수명은 OPENAI_API_KEY로 설정되어야 합니다.\n",
    "# 환경변수가 설정되어 있다면 ChatOpenAI 인스턴스를 생성할 때 키를 자동으로 읽어옵니다.\n",
    "llm = ChatOpenAI(model=\"gpt-4o-mini\", temperature=0.0) # Runnable 객체 -> invoke() 메서드로 실행\n",
    "\n",
    "response = llm.invoke([(\"human\", \"안녕\")])\n",
    "print(response.content) # LLM의 응답 출력\n",
    "\n",
    "# llm.invoke(formated_prompt): LLM에 프롬프트 전달하여 응답 받기\n",
    "# LLM의 응답은 문자열로 반환됩니다.\n",
    "# 응답 예시: '커피의 향기', '커피의 정원', '커피의 여정' 등\n",
    "# LLM의 응답을 변수에 저장\n",
    "response = llm.invoke(formated_prompt)\n",
    "print(response.content) # LLM의 응답 출력"
   ]
  },
  {
   "cell_type": "code",
   "execution_count": 7,
   "id": "f2312206",
   "metadata": {},
   "outputs": [
    {
     "name": "stdout",
     "output_type": "stream",
     "text": [
      "커피 제품을 생산하는 회사 이름을 정할 때는 브랜드의 이미지, 타겟 고객, 그리고 제품의 특징을 고려하는 것이 중요합니다. 다음은 몇 가지 아이디어입니다:\n",
      "\n",
      "1. **커피의 정원** - 자연 친화적인 이미지를 강조\n",
      "2. **아침의 한 잔** - 아침에 즐기는 커피를 강조\n",
      "3. **커피의 예술** - 고급스러운 느낌을 주는 이름\n",
      "4. **향기로운 순간** - 커피의 향을 강조\n",
      "5. **커피 공방** - 수제 느낌을 주는 이름\n",
      "6. **커피의 여정** - 다양한 원두와 블렌드를 탐험하는 느낌\n",
      "7. **한 잔의 행복** - 커피가 주는 기쁨을 강조\n",
      "8. **커피 마을** - 친근하고 따뜻한 이미지\n",
      "9. **블렌드 & 브루** - 다양한 블렌드와 추출 방법을 강조\n",
      "10. **커피의 시간** - 커피를 즐기는 특별한 순간을 강조\n",
      "\n",
      "이 중에서 마음에 드는 이름을 선택하거나, 조합하여 새로운 이름을 만들어 보세요!\n"
     ]
    }
   ],
   "source": [
    "# 문자열 출력 파서 Runnable 객체 - invoke()\n",
    "from langchain_core.output_parsers import StrOutputParser\n",
    "parser = StrOutputParser()\n",
    "parsed_text = parser.invoke(response)\n",
    "print(parsed_text) # 파싱된 문자열 출력: response.content와 동일"
   ]
  },
  {
   "cell_type": "markdown",
   "id": "01082b11",
   "metadata": {},
   "source": [
    "# LangChain Expression Language( LCEL ) 단일 체인 실행"
   ]
  },
  {
   "cell_type": "code",
   "execution_count": 8,
   "id": "da50742b",
   "metadata": {},
   "outputs": [
    {
     "name": "stdout",
     "output_type": "stream",
     "text": [
      "커피 제품을 생산하는 회사 이름으로는 다음과 같은 아이디어를 고려해볼 수 있습니다:\n",
      "\n",
      "1. **커피의 정원** - 자연 친화적인 이미지를 강조\n",
      "2. **아침의 한 잔** - 하루의 시작을 상징\n",
      "3. **커피 향기** - 향긋한 커피의 매력을 표현\n",
      "4. **커피 이야기** - 각 커피의 배경과 스토리를 강조\n",
      "5. **빈과 잔** - 커피 원두와 컵을 상징적으로 표현\n",
      "6. **커피 공방** - 수공예 느낌을 주는 이름\n",
      "7. **커피 마법** - 특별한 경험을 제공하는 느낌\n",
      "8. **한 모금의 행복** - 커피가 주는 즐거움을 강조\n",
      "9. **커피의 여정** - 다양한 원두와 블렌드를 탐험하는 느낌\n",
      "10. **커피의 미소** - 즐거운 순간을 연상시키는 이름\n",
      "\n",
      "이 중에서 마음에 드는 이름을 선택하거나, 조합하여 새로운 이름을 만들어보세요!\n"
     ]
    }
   ],
   "source": [
    "chain = prompt | llm | parser # Runnable 객체를 파이프라인으로 연결 -> invoke() 메서드로 실행되기 때문에 파이프라인으로 연결 가능\n",
    "# Runnable 객체를 파이프라인으로 연결하여 실행\n",
    "result = chain.invoke({\"product\": \"커피\"})\n",
    "print(result)  # 파이프라인 실행 결과 출력: '커피의 향기', '커피의 정원', '커피의 여정' 등"
   ]
  }
 ],
 "metadata": {
  "kernelspec": {
   "display_name": "langchain",
   "language": "python",
   "name": "python3"
  },
  "language_info": {
   "codemirror_mode": {
    "name": "ipython",
    "version": 3
   },
   "file_extension": ".py",
   "mimetype": "text/x-python",
   "name": "python",
   "nbconvert_exporter": "python",
   "pygments_lexer": "ipython3",
   "version": "3.13.3"
  }
 },
 "nbformat": 4,
 "nbformat_minor": 5
}
