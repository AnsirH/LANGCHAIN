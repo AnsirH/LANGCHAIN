{
 "cells": [
  {
   "cell_type": "markdown",
   "id": "b73f8bb8",
   "metadata": {},
   "source": [
    "# LangChain 프롬프트 템플릿\n",
    "```\n",
    "LLM 프롬프트를 동적으로 구성하고 재사용할 수 있도록 해주는 도구\n",
    "    단일 입력: 하나의 변수로 구성된 프롬프트 템플릿\n",
    "    다중 입력: 둘 이상의 변수를 사용하는 템플릿\n",
    "    ChatPromptTemplate 역할 기반 프롬프트: 시스템/사용자 역할 별 프롬프트 구성 .from_message()\n",
    "    PartialPromptTemplate 활용: 프롬프트 일부를 미리 고정하고 부분 포멧팅을 사용( ex. 시스템 메시지는 고정.. )\n",
    "    프롬프트를 출력 및 체인 실행: LCEL\n",
    "    프롬프트 작성 팁: 주의사항 및 모범사례\n",
    "```"
   ]
  },
  {
   "cell_type": "code",
   "execution_count": 1,
   "id": "3a9a79ec",
   "metadata": {},
   "outputs": [
    {
     "name": "stdout",
     "output_type": "stream",
     "text": [
      "Note: you may need to restart the kernel to use updated packages.\n"
     ]
    }
   ],
   "source": [
    "# 환경 설정\n",
    "%pip install langchain langchain-openai python-dotenv -qqq"
   ]
  },
  {
   "cell_type": "code",
   "execution_count": 1,
   "id": "32a441f4",
   "metadata": {},
   "outputs": [
    {
     "data": {
      "text/plain": [
       "True"
      ]
     },
     "execution_count": 1,
     "metadata": {},
     "output_type": "execute_result"
    }
   ],
   "source": [
    "from dotenv import load_dotenv\n",
    "load_dotenv()"
   ]
  },
  {
   "cell_type": "markdown",
   "id": "5d0c568d",
   "metadata": {},
   "source": [
    "## 단일 프롬프트"
   ]
  },
  {
   "cell_type": "code",
   "execution_count": 3,
   "id": "076174c1",
   "metadata": {},
   "outputs": [
    {
     "name": "stdout",
     "output_type": "stream",
     "text": [
      "당신은 최고 수준의 마케팅 카피라이터입니다.\n",
      "아래 제품의 매력적인 홍보 문구를 100자 이내로 작성해주세요.\n",
      "\n",
      "제품 명: 스마트폰\n",
      "\n"
     ]
    }
   ],
   "source": [
    "# 단일 프롬프트 사용\n",
    "from langchain.prompts import PromptTemplate\n",
    "# 템플릿 문자열 정의\n",
    "template_str = (\n",
    "    \"당신은 최고 수준의 마케팅 카피라이터입니다.\\n\"\n",
    "    \"아래 제품의 매력적인 홍보 문구를 100자 이내로 작성해주세요.\\n\\n\"\n",
    "    \"제품 명: {product_name}\\n\"\n",
    ")\n",
    "\n",
    "# 템플릿 객체 생성\n",
    "product_prompt = PromptTemplate.from_template(template_str)\n",
    "\n",
    "# 프롬프트에 제품 이름을 삽입\n",
    "product_name = \"스마트폰\"\n",
    "formatted_prompt = product_prompt.format(product_name=product_name)\n",
    "# 프롬프트 출력\n",
    "print(formatted_prompt)"
   ]
  },
  {
   "cell_type": "code",
   "execution_count": null,
   "id": "9d46b60e",
   "metadata": {},
   "outputs": [
    {
     "name": "stdout",
     "output_type": "stream",
     "text": [
      "\"세상을 손안에! 혁신적인 스마트폰으로 연결되고, 창조하고, 즐기세요. 당신의 일상이 더욱 특별해집니다!\"\n"
     ]
    }
   ],
   "source": [
    "# 프롬프트 | llm  -> invoke()\n",
    "from langchain_openai import ChatOpenAI\n",
    "from langchain_core.output_parsers import StrOutputParser\n",
    "# OpenAI API 클라이언트 생성\n",
    "llm = ChatOpenAI(model=\"gpt-4o-mini\", temperature=0.7)\n",
    "\n",
    "# 출력 파서 설정\n",
    "parser = StrOutputParser()\n",
    "\n",
    "# LLM에 프롬프트 전달 및 응답 생성\n",
    "chain = product_prompt | llm | parser\n",
    "response = chain.invoke({\"product_name\": product_name})\n",
    "\n",
    "# 응답 출력\n",
    "print(response)"
   ]
  },
  {
   "cell_type": "markdown",
   "id": "de4d2e96",
   "metadata": {},
   "source": [
    "## 다중 프롬프트"
   ]
  },
  {
   "cell_type": "code",
   "execution_count": null,
   "id": "16189521",
   "metadata": {},
   "outputs": [
    {
     "name": "stdout",
     "output_type": "stream",
     "text": [
      "아래는 뉴스 기사 제목과 키워드 입니다.\n",
      "이 정보를 바탕으로 한 문단으로 구성된 간략한 요약문을 작성하세요.\n",
      "\n",
      "제목: AI 기술의 발전과 미래\n",
      "키워드: 인공지능, 머신러닝, 딥러닝\n",
      "\n"
     ]
    }
   ],
   "source": [
    "# 다중 입력\n",
    "# 다중 입력 템플릿 문자열 정의\n",
    "multi_template_str = (\n",
    "    \"아래는 뉴스 기사 제목과 키워드 입니다.\\n\"\n",
    "    \"이 정보를 바탕으로 한 문단으로 구성된 간략한 요약문을 작성하세요.\\n\\n\"\n",
    "    \"제목: {title}\\n\"\n",
    "    \"키워드: {keywords}\\n\"\n",
    ")\n",
    "\n",
    "# 다중 프롬프트 템플릿 작성\n",
    "summary_prompt = PromptTemplate(template=multi_template_str, input_variables=[\"title\", \"keywords\"])\n",
    "# summary_prompt = PromptTemplate.from_template(multi_template_str)\n",
    "\n",
    "# 포멧팅을 통해 프롬프트 값 설정\n",
    "title = \"AI 기술의 발전과 미래\"\n",
    "keywords = \"인공지능, 머신러닝, 딥러닝\"\n",
    "formatted_summary_prompt = summary_prompt.format(title=title, keywords=keywords)\n",
    "\n",
    "# 프롬프트 출력\n",
    "print(formatted_summary_prompt)"
   ]
  },
  {
   "cell_type": "code",
   "execution_count": 12,
   "id": "76c98f79",
   "metadata": {},
   "outputs": [
    {
     "name": "stdout",
     "output_type": "stream",
     "text": [
      "AI 기술의 발전은 인공지능, 머신러닝, 딥러닝의 혁신적인 발전을 통해 이루어지고 있으며, 이는 다양한 산업 분야에서 큰 변화를 가져오고 있습니다. 특히, 머신러닝과 딥러닝 기술의 진화는 데이터 분석의 정확성과 효율성을 높여주어, 기업들이 보다 스마트한 의사결정을 할 수 있도록 지원하고 있습니다. 앞으로 이러한 기술들은 더욱 발전하여 인간의 삶을 개선하고, 새로운 기회를 창출하는 데 기여할 것으로 기대됩니다.\n"
     ]
    }
   ],
   "source": [
    "# LCEL 출력\n",
    "from langchain_core.output_parsers import StrOutputParser\n",
    "parser = StrOutputParser()\n",
    "result_summary = (summary_prompt | llm | parser).invoke({\n",
    "    \"title\": title,\n",
    "    \"keywords\": keywords\n",
    "})\n",
    "\n",
    "print(result_summary)"
   ]
  },
  {
   "cell_type": "markdown",
   "id": "0f674b1c",
   "metadata": {},
   "source": [
    "# ChatPromptTemplate와 역할 기반 프롬프트\n",
    "```\n",
    "시스템/사용자/어시스턴트 역할( role )\n",
    "시스템 메시지: 모델의 동작을 지시\n",
    "사용자 메시지: 실제 사용자의 입력\n",
    "어시스턴트 메시지: 이전 모델이 응답한 내용이 있다면 대화 맥락 유지를 위해 활용\n",
    "```"
   ]
  },
  {
   "cell_type": "code",
   "execution_count": 18,
   "id": "05865b55",
   "metadata": {},
   "outputs": [
    {
     "name": "stdout",
     "output_type": "stream",
     "text": [
      "파이썬에서 리스트를 정렬하는 방법은 여러 가지가 있습니다. 가장 일반적으로 사용되는 두 가지 방법은 `sort()` 메서드와 `sorted()` 함수를 사용하는 것입니다.\n",
      "\n",
      "### 1. `sort()` 메서드\n",
      "`sort()` 메서드는 리스트 객체의 메서드로, 리스트를 직접 정렬합니다. 이 메서드는 리스트를 오름차순으로 정렬하며, 원본 리스트를 변경합니다.\n",
      "\n",
      "```python\n",
      "# 예시\n",
      "my_list = [5, 2, 9, 1, 5, 6]\n",
      "my_list.sort()  # 리스트를 정렬\n",
      "print(my_list)  # 출력: [1, 2, 5, 5, 6, 9]\n",
      "```\n",
      "\n",
      "- **내림차순 정렬**: `reverse=True` 인자를 추가하면 내림차순으로 정렬할 수 있습니다.\n",
      "\n",
      "```python\n",
      "my_list.sort(reverse=True)\n",
      "print(my_list)  # 출력: [9, 6, 5, 5, 2, 1]\n",
      "```\n",
      "\n",
      "### 2. `sorted()` 함수\n",
      "`sorted()` 함수는 리스트를 정렬하여 새로운 리스트를 반환합니다. 원본 리스트는 변경되지 않습니다.\n",
      "\n",
      "```python\n",
      "# 예시\n",
      "my_list = [5, 2, 9, 1, 5, 6]\n",
      "sorted_list = sorted(my_list)  # 정렬된 새로운 리스트 생성\n",
      "print(sorted_list)  # 출력: [1, 2, 5, 5, 6, 9]\n",
      "print(my_list)      # 원본 리스트는 변경되지 않음: [5, 2, 9, 1, 5, 6]\n",
      "```\n",
      "\n",
      "- **내림차순 정렬**: `reverse=True` 인자를 추가하여 내림차순으로 정렬할 수 있습니다.\n",
      "\n",
      "```python\n",
      "sorted_list_desc = sorted(my_list, reverse=True)\n",
      "print(sorted_list_desc)  # 출력: [9, 6, 5, 5, 2, 1]\n",
      "```\n",
      "\n",
      "### 추가 옵션\n",
      "두 방법 모두 `key` 인자를 사용하여 정렬 기준을 지정할 수 있습니다. 예를 들어, 문자열 리스트를 길이에 따라 정렬할 수 있습니다.\n",
      "\n",
      "```python\n",
      "words = [\"banana\", \"apple\", \"cherry\", \"date\"]\n",
      "words.sort(key=len)  # 문자열의 길이에 따라 정렬\n",
      "print(words)  # 출력: ['date', 'apple', 'banana', 'cherry']\n",
      "```\n",
      "\n",
      "이와 같이 `sort()`와 `sorted()`를 사용하여 리스트를 쉽게 정렬할 수 있습니다. 필요에 따라 적절한 방법을 선택하여 사용하세요!\n"
     ]
    }
   ],
   "source": [
    "from langchain.prompts import ChatPromptTemplate\n",
    "from langchain_core.output_parsers import StrOutputParser\n",
    "from langchain_openai import ChatOpenAI\n",
    "\n",
    "system_message = (\n",
    "    \"당신은 Python 분야의 뛰어난 전문자이자 조언가입니다.\\n\"\n",
    "    \"사용자의 프로그래밍 질문에 대해 친절하고 이해하기 쉽게 답변해주세요.\\n\"\n",
    ")\n",
    "user_message = (\"{question}\")\n",
    "# 채팅 프롬프트 템플릿 생성\n",
    "chat_prompt = ChatPromptTemplate.from_messages([\n",
    "    (\"system\", system_message),\n",
    "    (\"user\", user_message)\n",
    "])\n",
    "\n",
    "# OpenAI API 클라이언트 생성\n",
    "llm = ChatOpenAI(model=\"gpt-4o-mini\", temperature=0.0)\n",
    "\n",
    "# 출력 파서 설정\n",
    "parser = StrOutputParser()\n",
    "\n",
    "# 템플릿을 이용해서 문장을 완성\n",
    "question = \"파이썬에서 리스트를 정렬하는 방법은 무엇인가요?\"\n",
    "\n",
    "# 프롬프트 | llm | parser\n",
    "chain = chat_prompt | llm | parser\n",
    "\n",
    "response = chain.invoke({\"question\": question})\n",
    "# 응답 출력\n",
    "print(response)"
   ]
  },
  {
   "cell_type": "markdown",
   "id": "17378408",
   "metadata": {},
   "source": [
    "# PartialPromptTemplate\n",
    "- 템플릿의 일부를 부분적으로 채운 새로운 템플릿"
   ]
  },
  {
   "cell_type": "code",
   "execution_count": 20,
   "id": "0fab1819",
   "metadata": {},
   "outputs": [],
   "source": [
    "from langchain.prompts import SystemMessagePromptTemplate, HumanMessagePromptTemplate\n",
    "role_system_template = \"당신은 {rule} 분야의 전문 지식인 입니다. 가능한 자세히 답변해주세요.\"\n",
    "system_prompt =SystemMessagePromptTemplate.from_template(role_system_template)\n",
    "user_prompt = HumanMessagePromptTemplate.from_template(\"{question}\")\n",
    "\n",
    "# ChatPromptTemplate 생성\n",
    "base_chat_prompt = ChatPromptTemplate.from_messages([\n",
    "    system_prompt,\n",
    "    user_prompt\n",
    "])\n",
    "\n",
    "partial_chat_prompt = base_chat_prompt.partial(rule=\"주식 투자\")"
   ]
  },
  {
   "cell_type": "code",
   "execution_count": 24,
   "id": "3c48c380",
   "metadata": {},
   "outputs": [
    {
     "name": "stdout",
     "output_type": "stream",
     "text": [
      "[SystemMessage(content='당신은 주식 투자 분야의 전문 지식인 입니다. 가능한 자세히 답변해주세요.', additional_kwargs={}, response_metadata={}), HumanMessage(content='현재 2025년 5월 시장 상황에서 삼성전자 주식 전망은 어떤가요?', additional_kwargs={}, response_metadata={})]\n"
     ]
    }
   ],
   "source": [
    "# partial로 생성된 프롬프트에 질문만 채워 프롬프트 구성\n",
    "sample_question = \"현재 2025년 5월 시장 상황에서 삼성전자 주식 전망은 어떤가요?\"\n",
    "message = partial_chat_prompt.format_messages(question=sample_question)\n",
    "# 메시지 출력\n",
    "print(message)"
   ]
  },
  {
   "cell_type": "code",
   "execution_count": 25,
   "id": "6854dc38",
   "metadata": {},
   "outputs": [
    {
     "name": "stdout",
     "output_type": "stream",
     "text": [
      "2025년 5월의 삼성전자 주식 전망을 평가하기 위해서는 여러 가지 요소를 고려해야 합니다. 다음은 삼성전자의 주식 전망에 영향을 미칠 수 있는 주요 요인들입니다.\n",
      "\n",
      "1. **반도체 시장 동향**: 삼성전자는 세계 최대의 반도체 제조업체 중 하나입니다. 반도체 수요는 AI, 클라우드 컴퓨팅, IoT(사물인터넷) 등 다양한 산업에서 증가하고 있습니다. 2025년까지 이러한 기술들이 더욱 발전하고 대중화된다면, 삼성전자의 반도체 부문 실적이 긍정적일 가능성이 높습니다.\n",
      "\n",
      "2. **스마트폰 및 전자제품 시장**: 삼성전자는 스마트폰, 가전제품 등 다양한 전자제품을 제조하고 있습니다. 5G와 같은 새로운 기술의 도입이 소비자 수요에 긍정적인 영향을 미칠 수 있으며, 특히 프리미엄 제품군에서의 경쟁력이 중요합니다.\n",
      "\n",
      "3. **글로벌 경제 상황**: 글로벌 경제의 성장률, 금리, 인플레이션 등은 삼성전자의 주가에 영향을 미칠 수 있습니다. 경제가 안정적이고 성장세를 보인다면 소비자 지출이 증가하고, 이는 삼성전자의 매출 증가로 이어질 수 있습니다.\n",
      "\n",
      "4. **경쟁 상황**: 애플, 화웨이, TSMC 등과 같은 경쟁사들과의 경쟁 상황도 중요합니다. 특히 반도체 분야에서는 TSMC와의 경쟁이 치열해지고 있으며, 기술력과 생산능력에서의 우위가 주가에 큰 영향을 미칠 수 있습니다.\n",
      "\n",
      "5. **정치적 및 규제 환경**: 한국과 미국, 중국 간의 무역 관계 및 규제 환경도 삼성전자의 사업에 영향을 미칠 수 있습니다. 특히 반도체와 관련된 기술 규제가 강화될 경우, 삼성전자의 글로벌 경쟁력에 부정적인 영향을 미칠 수 있습니다.\n",
      "\n",
      "6. **ESG(환경, 사회, 지배구조) 경영**: 최근 투자자들은 ESG 요소를 중요하게 고려하고 있습니다. 삼성전자가 지속 가능한 경영을 통해 긍정적인 이미지를 구축한다면, 장기적으로 주가에 긍정적인 영향을 미칠 수 있습니다.\n",
      "\n",
      "결론적으로, 삼성전자의 주식 전망은 긍정적일 수 있지만, 위에서 언급한 다양한 외부 요인에 따라 변동성이 클 수 있습니다. 따라서 투자 결정을 내리기 전에 충분한 시장 조사와 분석이 필요합니다.\n"
     ]
    }
   ],
   "source": [
    "# LCEL \n",
    "chain = partial_chat_prompt | llm | parser\n",
    "response = chain.invoke({\"question\": sample_question})\n",
    "# 응답 출력\n",
    "print(response)"
   ]
  },
  {
   "cell_type": "code",
   "execution_count": null,
   "id": "ec762ed5",
   "metadata": {},
   "outputs": [],
   "source": []
  }
 ],
 "metadata": {
  "kernelspec": {
   "display_name": "langchain",
   "language": "python",
   "name": "python3"
  },
  "language_info": {
   "codemirror_mode": {
    "name": "ipython",
    "version": 3
   },
   "file_extension": ".py",
   "mimetype": "text/x-python",
   "name": "python",
   "nbconvert_exporter": "python",
   "pygments_lexer": "ipython3",
   "version": "3.13.3"
  }
 },
 "nbformat": 4,
 "nbformat_minor": 5
}
